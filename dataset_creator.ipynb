{
 "cells": [
  {
   "cell_type": "code",
   "execution_count": 1,
   "metadata": {},
   "outputs": [
    {
     "name": "stderr",
     "output_type": "stream",
     "text": [
      "[22:48:26] WARNING: not removing hydrogen atom without neighbors\n",
      "[22:48:26] WARNING: not removing hydrogen atom without neighbors\n",
      "[22:48:26] WARNING: not removing hydrogen atom without neighbors\n",
      "[22:48:26] WARNING: not removing hydrogen atom without neighbors\n",
      "[22:48:26] WARNING: not removing hydrogen atom without neighbors\n",
      "[22:48:26] WARNING: not removing hydrogen atom without neighbors\n",
      "[22:48:26] WARNING: not removing hydrogen atom without neighbors\n",
      "[22:48:26] WARNING: not removing hydrogen atom without neighbors\n",
      "[22:48:26] WARNING: not removing hydrogen atom without neighbors\n",
      "[22:48:26] WARNING: not removing hydrogen atom without neighbors\n",
      "[22:48:26] WARNING: not removing hydrogen atom without neighbors\n",
      "[22:48:26] WARNING: not removing hydrogen atom without neighbors\n",
      "[22:48:26] WARNING: not removing hydrogen atom without neighbors\n",
      "[22:48:26] WARNING: not removing hydrogen atom without neighbors\n",
      "[22:48:26] WARNING: not removing hydrogen atom without neighbors\n",
      "[22:48:26] WARNING: not removing hydrogen atom without neighbors\n"
     ]
    },
    {
     "name": "stdout",
     "output_type": "stream",
     "text": [
      "Balanced dataset saved to synthetic/indigo_balanced.csv\n"
     ]
    }
   ],
   "source": [
    "import pandas as pd\n",
    "from rdkit import Chem\n",
    "\n",
    "# Load the dataset\n",
    "csv_path = \"synthetic/indigo_resize.csv\"\n",
    "df = pd.read_csv(csv_path)\n",
    "\n",
    "# Function to determine if a molecule has an aromatic ring\n",
    "def has_aromatic_ring(smiles):\n",
    "    mol = Chem.MolFromSmiles(smiles)\n",
    "    if mol is None:\n",
    "        return None  # Invalid SMILES\n",
    "    return int(any(atom.GetIsAromatic() for atom in mol.GetAtoms()))  # 1 if aromatic, 0 otherwise\n",
    "\n",
    "# Add has_aromatic_ring column\n",
    "df[\"has_aromatic_ring\"] = df[\"SMILES\"].apply(has_aromatic_ring)\n",
    "\n",
    "# Drop invalid SMILES rows\n",
    "df = df.dropna(subset=[\"has_aromatic_ring\"])\n",
    "\n",
    "# Balance the dataset\n",
    "min_count = df[\"has_aromatic_ring\"].value_counts().min()\n",
    "\n",
    "# Undersample majority class\n",
    "balanced_df = df.groupby(\"has_aromatic_ring\").sample(n=min_count, random_state=42)\n",
    "\n",
    "# Save balanced dataset\n",
    "balanced_csv_path = \"synthetic/indigo_balanced.csv\"\n",
    "balanced_df.to_csv(balanced_csv_path, index=False)\n",
    "\n",
    "print(f\"Balanced dataset saved to {balanced_csv_path}\")\n"
   ]
  }
 ],
 "metadata": {
  "kernelspec": {
   "display_name": "visionrl",
   "language": "python",
   "name": "python3"
  },
  "language_info": {
   "codemirror_mode": {
    "name": "ipython",
    "version": 3
   },
   "file_extension": ".py",
   "mimetype": "text/x-python",
   "name": "python",
   "nbconvert_exporter": "python",
   "pygments_lexer": "ipython3",
   "version": "3.9.21"
  }
 },
 "nbformat": 4,
 "nbformat_minor": 2
}
