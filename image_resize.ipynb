{
 "cells": [
  {
   "cell_type": "code",
   "execution_count": 1,
   "metadata": {},
   "outputs": [
    {
     "name": "stderr",
     "output_type": "stream",
     "text": [
      "Resizing Images: 100%|██████████| 4999/4999 [03:06<00:00, 26.73image/s]"
     ]
    },
    {
     "name": "stdout",
     "output_type": "stream",
     "text": [
      "All images resized successfully with a white background!\n"
     ]
    },
    {
     "name": "stderr",
     "output_type": "stream",
     "text": [
      "\n"
     ]
    }
   ],
   "source": [
    "from PIL import Image\n",
    "import os\n",
    "from tqdm import tqdm\n",
    "\n",
    "# Define paths\n",
    "input_folder = \"indigo_simple_render/images_full_size\"\n",
    "output_folder = \"indigo_simple_render/images\"\n",
    "\n",
    "# Ensure output folder exists\n",
    "os.makedirs(output_folder, exist_ok=True)\n",
    "\n",
    "# Target size\n",
    "target_size = (384, 384)\n",
    "\n",
    "# Get all image files\n",
    "image_files = [f for f in os.listdir(input_folder) if f.lower().endswith(('.png', '.jpg', '.jpeg'))]\n",
    "\n",
    "# Resize images with tqdm progress bar\n",
    "for image_file in tqdm(image_files, desc=\"Resizing Images\", unit=\"image\"):\n",
    "    input_path = os.path.join(input_folder, image_file)\n",
    "    output_path = os.path.join(output_folder, image_file)\n",
    "    \n",
    "    with Image.open(input_path) as img:\n",
    "        # Convert image to RGB (if it has an alpha channel)\n",
    "        img = img.convert(\"RGB\")\n",
    "\n",
    "        # Preserve aspect ratio while resizing\n",
    "        img.thumbnail(target_size, Image.Resampling.LANCZOS)\n",
    "        \n",
    "        # Create a blank white canvas of target size\n",
    "        new_img = Image.new(\"RGB\", target_size, (255, 255, 255))  # White background\n",
    "        new_img.paste(img, ((target_size[0] - img.width) // 2, (target_size[1] - img.height) // 2))\n",
    "\n",
    "        # Save in the output folder\n",
    "        new_img.save(output_path)\n",
    "\n",
    "print(\"All images resized successfully with a white background!\")\n"
   ]
  }
 ],
 "metadata": {
  "kernelspec": {
   "display_name": "visionrl",
   "language": "python",
   "name": "python3"
  },
  "language_info": {
   "codemirror_mode": {
    "name": "ipython",
    "version": 3
   },
   "file_extension": ".py",
   "mimetype": "text/x-python",
   "name": "python",
   "nbconvert_exporter": "python",
   "pygments_lexer": "ipython3",
   "version": "3.9.21"
  }
 },
 "nbformat": 4,
 "nbformat_minor": 2
}
